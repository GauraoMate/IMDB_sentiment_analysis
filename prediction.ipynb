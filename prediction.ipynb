{
 "cells": [
  {
   "cell_type": "code",
   "execution_count": 2,
   "metadata": {},
   "outputs": [],
   "source": [
    "# Step 1: Import Libraries and Load the Model\n",
    "import numpy as np\n",
    "import tensorflow as tf\n",
    "from tensorflow.keras.datasets import imdb\n",
    "from tensorflow.keras.preprocessing import sequence\n",
    "from tensorflow.keras.models import load_model"
   ]
  },
  {
   "cell_type": "code",
   "execution_count": 3,
   "metadata": {},
   "outputs": [],
   "source": [
    "\n",
    "# Load the IMDB dataset word index\n",
    "word_index = imdb.get_word_index()\n",
    "reverse_word_index = {value: key for key, value in word_index.items()}"
   ]
  },
  {
   "cell_type": "code",
   "execution_count": 4,
   "metadata": {},
   "outputs": [
    {
     "name": "stderr",
     "output_type": "stream",
     "text": [
      "WARNING:absl:Compiled the loaded model, but the compiled metrics have yet to be built. `model.compile_metrics` will be empty until you train or evaluate the model.\n"
     ]
    },
    {
     "data": {
      "text/html": [
       "<pre style=\"white-space:pre;overflow-x:auto;line-height:normal;font-family:Menlo,'DejaVu Sans Mono',consolas,'Courier New',monospace\"><span style=\"font-weight: bold\">Model: \"sequential_3\"</span>\n",
       "</pre>\n"
      ],
      "text/plain": [
       "\u001b[1mModel: \"sequential_3\"\u001b[0m\n"
      ]
     },
     "metadata": {},
     "output_type": "display_data"
    },
    {
     "data": {
      "text/html": [
       "<pre style=\"white-space:pre;overflow-x:auto;line-height:normal;font-family:Menlo,'DejaVu Sans Mono',consolas,'Courier New',monospace\">┏━━━━━━━━━━━━━━━━━━━━━━━━━━━━━━━━━┳━━━━━━━━━━━━━━━━━━━━━━━━┳━━━━━━━━━━━━━━━┓\n",
       "┃<span style=\"font-weight: bold\"> Layer (type)                    </span>┃<span style=\"font-weight: bold\"> Output Shape           </span>┃<span style=\"font-weight: bold\">       Param # </span>┃\n",
       "┡━━━━━━━━━━━━━━━━━━━━━━━━━━━━━━━━━╇━━━━━━━━━━━━━━━━━━━━━━━━╇━━━━━━━━━━━━━━━┩\n",
       "│ embedding_3 (<span style=\"color: #0087ff; text-decoration-color: #0087ff\">Embedding</span>)         │ (<span style=\"color: #00af00; text-decoration-color: #00af00\">32</span>, <span style=\"color: #00af00; text-decoration-color: #00af00\">500</span>, <span style=\"color: #00af00; text-decoration-color: #00af00\">128</span>)         │     <span style=\"color: #00af00; text-decoration-color: #00af00\">1,280,000</span> │\n",
       "├─────────────────────────────────┼────────────────────────┼───────────────┤\n",
       "│ simple_rnn_3 (<span style=\"color: #0087ff; text-decoration-color: #0087ff\">SimpleRNN</span>)        │ (<span style=\"color: #00af00; text-decoration-color: #00af00\">32</span>, <span style=\"color: #00af00; text-decoration-color: #00af00\">128</span>)              │        <span style=\"color: #00af00; text-decoration-color: #00af00\">32,896</span> │\n",
       "├─────────────────────────────────┼────────────────────────┼───────────────┤\n",
       "│ dense_3 (<span style=\"color: #0087ff; text-decoration-color: #0087ff\">Dense</span>)                 │ (<span style=\"color: #00af00; text-decoration-color: #00af00\">32</span>, <span style=\"color: #00af00; text-decoration-color: #00af00\">1</span>)                │           <span style=\"color: #00af00; text-decoration-color: #00af00\">129</span> │\n",
       "└─────────────────────────────────┴────────────────────────┴───────────────┘\n",
       "</pre>\n"
      ],
      "text/plain": [
       "┏━━━━━━━━━━━━━━━━━━━━━━━━━━━━━━━━━┳━━━━━━━━━━━━━━━━━━━━━━━━┳━━━━━━━━━━━━━━━┓\n",
       "┃\u001b[1m \u001b[0m\u001b[1mLayer (type)                   \u001b[0m\u001b[1m \u001b[0m┃\u001b[1m \u001b[0m\u001b[1mOutput Shape          \u001b[0m\u001b[1m \u001b[0m┃\u001b[1m \u001b[0m\u001b[1m      Param #\u001b[0m\u001b[1m \u001b[0m┃\n",
       "┡━━━━━━━━━━━━━━━━━━━━━━━━━━━━━━━━━╇━━━━━━━━━━━━━━━━━━━━━━━━╇━━━━━━━━━━━━━━━┩\n",
       "│ embedding_3 (\u001b[38;5;33mEmbedding\u001b[0m)         │ (\u001b[38;5;34m32\u001b[0m, \u001b[38;5;34m500\u001b[0m, \u001b[38;5;34m128\u001b[0m)         │     \u001b[38;5;34m1,280,000\u001b[0m │\n",
       "├─────────────────────────────────┼────────────────────────┼───────────────┤\n",
       "│ simple_rnn_3 (\u001b[38;5;33mSimpleRNN\u001b[0m)        │ (\u001b[38;5;34m32\u001b[0m, \u001b[38;5;34m128\u001b[0m)              │        \u001b[38;5;34m32,896\u001b[0m │\n",
       "├─────────────────────────────────┼────────────────────────┼───────────────┤\n",
       "│ dense_3 (\u001b[38;5;33mDense\u001b[0m)                 │ (\u001b[38;5;34m32\u001b[0m, \u001b[38;5;34m1\u001b[0m)                │           \u001b[38;5;34m129\u001b[0m │\n",
       "└─────────────────────────────────┴────────────────────────┴───────────────┘\n"
      ]
     },
     "metadata": {},
     "output_type": "display_data"
    },
    {
     "data": {
      "text/html": [
       "<pre style=\"white-space:pre;overflow-x:auto;line-height:normal;font-family:Menlo,'DejaVu Sans Mono',consolas,'Courier New',monospace\"><span style=\"font-weight: bold\"> Total params: </span><span style=\"color: #00af00; text-decoration-color: #00af00\">1,313,027</span> (5.01 MB)\n",
       "</pre>\n"
      ],
      "text/plain": [
       "\u001b[1m Total params: \u001b[0m\u001b[38;5;34m1,313,027\u001b[0m (5.01 MB)\n"
      ]
     },
     "metadata": {},
     "output_type": "display_data"
    },
    {
     "data": {
      "text/html": [
       "<pre style=\"white-space:pre;overflow-x:auto;line-height:normal;font-family:Menlo,'DejaVu Sans Mono',consolas,'Courier New',monospace\"><span style=\"font-weight: bold\"> Trainable params: </span><span style=\"color: #00af00; text-decoration-color: #00af00\">1,313,025</span> (5.01 MB)\n",
       "</pre>\n"
      ],
      "text/plain": [
       "\u001b[1m Trainable params: \u001b[0m\u001b[38;5;34m1,313,025\u001b[0m (5.01 MB)\n"
      ]
     },
     "metadata": {},
     "output_type": "display_data"
    },
    {
     "data": {
      "text/html": [
       "<pre style=\"white-space:pre;overflow-x:auto;line-height:normal;font-family:Menlo,'DejaVu Sans Mono',consolas,'Courier New',monospace\"><span style=\"font-weight: bold\"> Non-trainable params: </span><span style=\"color: #00af00; text-decoration-color: #00af00\">0</span> (0.00 B)\n",
       "</pre>\n"
      ],
      "text/plain": [
       "\u001b[1m Non-trainable params: \u001b[0m\u001b[38;5;34m0\u001b[0m (0.00 B)\n"
      ]
     },
     "metadata": {},
     "output_type": "display_data"
    },
    {
     "data": {
      "text/html": [
       "<pre style=\"white-space:pre;overflow-x:auto;line-height:normal;font-family:Menlo,'DejaVu Sans Mono',consolas,'Courier New',monospace\"><span style=\"font-weight: bold\"> Optimizer params: </span><span style=\"color: #00af00; text-decoration-color: #00af00\">2</span> (12.00 B)\n",
       "</pre>\n"
      ],
      "text/plain": [
       "\u001b[1m Optimizer params: \u001b[0m\u001b[38;5;34m2\u001b[0m (12.00 B)\n"
      ]
     },
     "metadata": {},
     "output_type": "display_data"
    }
   ],
   "source": [
    "# Load the pre-trained model with ReLU activation\n",
    "model = load_model('simple_rnn_imdb.h5')\n",
    "model.summary()"
   ]
  },
  {
   "cell_type": "code",
   "execution_count": 5,
   "metadata": {},
   "outputs": [
    {
     "data": {
      "text/plain": [
       "[array([[ 0.44231984, -0.3764661 ,  0.15008599, ...,  0.29157877,\n",
       "          0.6071628 ,  0.51970303],\n",
       "        [ 0.03708855,  0.02886403, -0.07592583, ...,  0.00388528,\n",
       "         -0.00347008, -0.01520835],\n",
       "        [ 0.05401036,  0.0992754 , -0.03254063, ...,  0.13039042,\n",
       "         -0.0540426 , -0.06182301],\n",
       "        ...,\n",
       "        [ 0.03104967, -0.12026629,  0.11200723, ..., -0.02258635,\n",
       "         -0.07568455, -0.0075779 ],\n",
       "        [ 0.03075151, -0.04735005,  0.02054583, ...,  0.00291   ,\n",
       "          0.06393313,  0.0137122 ],\n",
       "        [-0.04105492,  0.05639606,  0.08724388, ..., -0.02834452,\n",
       "          0.01785675, -0.09130313]], dtype=float32),\n",
       " array([[ 0.06737883,  0.02507952,  0.12606044, ..., -0.01104573,\n",
       "         -0.13657175, -0.04895043],\n",
       "        [-0.17917086,  0.04566235, -0.14791198, ..., -0.13226146,\n",
       "          0.0383371 , -0.14798105],\n",
       "        [ 0.08112546, -0.00151932, -0.05824392, ...,  0.12254617,\n",
       "          0.04207124, -0.02738243],\n",
       "        ...,\n",
       "        [-0.05734046,  0.16824067,  0.12757868, ...,  0.12542762,\n",
       "         -0.08017052, -0.07545242],\n",
       "        [ 0.02730154, -0.06634925,  0.00141405, ...,  0.01103429,\n",
       "         -0.01167311, -0.01190085],\n",
       "        [ 0.1239538 ,  0.12172355,  0.1373011 , ...,  0.08285104,\n",
       "         -0.05543541,  0.01678691]], dtype=float32),\n",
       " array([[-0.21833846,  0.05328197,  0.00306342, ..., -0.00637559,\n",
       "         -0.04736113, -0.15113391],\n",
       "        [ 0.04823774, -0.08989592,  0.04204841, ...,  0.03057627,\n",
       "         -0.04804261, -0.11100151],\n",
       "        [ 0.03745627,  0.11358425,  0.17872077, ..., -0.11113068,\n",
       "          0.01705423, -0.04450586],\n",
       "        ...,\n",
       "        [ 0.04081906, -0.18478274,  0.1516533 , ..., -0.1139506 ,\n",
       "          0.24645297, -0.04438948],\n",
       "        [ 0.17986798,  0.01599881, -0.01000098, ..., -0.00916509,\n",
       "          0.08268192,  0.1624093 ],\n",
       "        [ 0.05956848, -0.21365722, -0.06443091, ...,  0.04899424,\n",
       "         -0.04845526,  0.13177341]], dtype=float32),\n",
       " array([ 0.00442037, -0.04527435,  0.00241306, -0.00200663, -0.01697847,\n",
       "        -0.01528235,  0.00988664, -0.01222667,  0.02527575, -0.02595285,\n",
       "         0.01520649,  0.04084811, -0.00372584, -0.00941797,  0.06350641,\n",
       "         0.02173149, -0.02056541, -0.03233236, -0.02808198,  0.05354242,\n",
       "        -0.01721665,  0.01634571,  0.01671951, -0.04931118, -0.01792686,\n",
       "         0.02458203,  0.01880402,  0.03162448, -0.03030084,  0.00434824,\n",
       "        -0.02260618,  0.04006514, -0.02460194, -0.01960161,  0.04335793,\n",
       "         0.00965009,  0.00177239, -0.00822563, -0.04497943, -0.02351095,\n",
       "        -0.03090758,  0.03934218,  0.03936671,  0.04250266, -0.02076759,\n",
       "         0.03268725, -0.02155579,  0.03219185,  0.01173674,  0.0097465 ,\n",
       "         0.02514637,  0.03173872, -0.02687042, -0.00949873,  0.01480514,\n",
       "         0.03512006,  0.04546586,  0.02667247, -0.00240294, -0.02608199,\n",
       "         0.029891  , -0.01752732, -0.00940966,  0.00613484,  0.00281451,\n",
       "         0.02716834,  0.02865622, -0.01934329,  0.00993812,  0.001714  ,\n",
       "        -0.02551491, -0.02387865,  0.02931229, -0.03506885,  0.02415793,\n",
       "        -0.01995849, -0.02614191, -0.02408557, -0.0147991 , -0.00478416,\n",
       "         0.03082876,  0.02203806,  0.01359943, -0.02090193, -0.01326969,\n",
       "         0.00916169, -0.04917656, -0.00538394, -0.00061005,  0.02532484,\n",
       "         0.02780248,  0.03109776, -0.02163494,  0.01091237, -0.03815512,\n",
       "        -0.01908793,  0.01006195, -0.03186283,  0.01340004,  0.02099691,\n",
       "        -0.00098768,  0.02318809,  0.03781004,  0.00471179,  0.02289035,\n",
       "        -0.04444111,  0.03715869,  0.03227043,  0.03707327, -0.02962009,\n",
       "         0.02775613,  0.02307327, -0.0147021 , -0.05130996, -0.04620202,\n",
       "         0.00533226,  0.03641439,  0.00729452, -0.03025177, -0.02263035,\n",
       "        -0.02968454,  0.01560412, -0.01426811,  0.023107  ,  0.04406407,\n",
       "         0.03836966,  0.02863153, -0.00191623], dtype=float32),\n",
       " array([[-0.03150155],\n",
       "        [ 0.03389852],\n",
       "        [ 0.09714721],\n",
       "        [-0.01155289],\n",
       "        [-0.19818084],\n",
       "        [ 0.20343478],\n",
       "        [-0.66180277],\n",
       "        [-0.15643872],\n",
       "        [-0.16049834],\n",
       "        [ 0.05533987],\n",
       "        [ 0.0645339 ],\n",
       "        [ 0.16261485],\n",
       "        [-0.00800885],\n",
       "        [-0.532413  ],\n",
       "        [ 0.0333012 ],\n",
       "        [ 0.04449957],\n",
       "        [-0.05849431],\n",
       "        [ 0.18312111],\n",
       "        [ 0.11081945],\n",
       "        [ 0.14067309],\n",
       "        [-0.15777126],\n",
       "        [-0.08587684],\n",
       "        [-0.17931467],\n",
       "        [ 0.05756842],\n",
       "        [ 0.00622968],\n",
       "        [ 0.14836484],\n",
       "        [ 0.09333506],\n",
       "        [ 0.05559022],\n",
       "        [-0.10446607],\n",
       "        [-0.5240473 ],\n",
       "        [-0.05254518],\n",
       "        [ 0.24509113],\n",
       "        [ 0.04833124],\n",
       "        [-0.07668896],\n",
       "        [ 0.02156251],\n",
       "        [-0.28351697],\n",
       "        [-0.37037095],\n",
       "        [ 0.24115069],\n",
       "        [ 0.0802203 ],\n",
       "        [-0.10084905],\n",
       "        [ 0.14101654],\n",
       "        [-0.13798003],\n",
       "        [ 0.21299718],\n",
       "        [ 0.10312031],\n",
       "        [-0.2522723 ],\n",
       "        [ 0.23956539],\n",
       "        [ 0.03160908],\n",
       "        [-0.05994523],\n",
       "        [ 0.25295708],\n",
       "        [-0.21780236],\n",
       "        [ 0.169325  ],\n",
       "        [-0.09151731],\n",
       "        [-0.29267928],\n",
       "        [-0.00108633],\n",
       "        [-0.18153836],\n",
       "        [ 0.19568321],\n",
       "        [ 0.49976826],\n",
       "        [ 0.08486037],\n",
       "        [ 0.18287227],\n",
       "        [-0.02167468],\n",
       "        [-0.3940254 ],\n",
       "        [-0.11926145],\n",
       "        [ 0.17228378],\n",
       "        [ 0.25300428],\n",
       "        [ 0.10362345],\n",
       "        [-0.13933402],\n",
       "        [-0.32885394],\n",
       "        [-0.12948558],\n",
       "        [ 0.00233712],\n",
       "        [-0.378395  ],\n",
       "        [ 0.18387462],\n",
       "        [-0.09206584],\n",
       "        [ 0.2252226 ],\n",
       "        [-0.0433296 ],\n",
       "        [-0.16635771],\n",
       "        [-0.18925828],\n",
       "        [ 0.11211819],\n",
       "        [ 0.18130738],\n",
       "        [ 0.04790255],\n",
       "        [ 0.35261652],\n",
       "        [-0.08940863],\n",
       "        [ 0.19131577],\n",
       "        [-0.12361805],\n",
       "        [-0.18143602],\n",
       "        [-0.09584875],\n",
       "        [-0.08249867],\n",
       "        [ 0.06343294],\n",
       "        [ 0.0576521 ],\n",
       "        [ 0.09665987],\n",
       "        [ 0.06337255],\n",
       "        [-0.15992193],\n",
       "        [-0.17828576],\n",
       "        [-0.0796922 ],\n",
       "        [-0.0161958 ],\n",
       "        [ 0.1359216 ],\n",
       "        [-0.17092834],\n",
       "        [ 0.41764852],\n",
       "        [ 0.01875787],\n",
       "        [ 0.41020244],\n",
       "        [ 0.02171463],\n",
       "        [-0.16396913],\n",
       "        [-0.15696076],\n",
       "        [-0.12750384],\n",
       "        [-0.0843982 ],\n",
       "        [-0.21908268],\n",
       "        [ 0.12708412],\n",
       "        [-0.201776  ],\n",
       "        [ 0.0317639 ],\n",
       "        [ 0.01841848],\n",
       "        [ 0.14651893],\n",
       "        [ 0.06658344],\n",
       "        [-0.16861236],\n",
       "        [-0.19396545],\n",
       "        [ 0.0725377 ],\n",
       "        [ 0.09998649],\n",
       "        [-0.22245792],\n",
       "        [ 0.2482576 ],\n",
       "        [ 0.04180209],\n",
       "        [ 0.06622552],\n",
       "        [-0.16032836],\n",
       "        [-0.13697708],\n",
       "        [ 0.07454459],\n",
       "        [ 0.1545223 ],\n",
       "        [-0.08885784],\n",
       "        [ 0.19000354],\n",
       "        [ 0.04637452],\n",
       "        [ 0.0834666 ],\n",
       "        [-0.20768714]], dtype=float32),\n",
       " array([-0.05588721], dtype=float32)]"
      ]
     },
     "execution_count": 5,
     "metadata": {},
     "output_type": "execute_result"
    }
   ],
   "source": [
    "model.get_weights()"
   ]
  },
  {
   "cell_type": "code",
   "execution_count": 15,
   "metadata": {},
   "outputs": [],
   "source": [
    "def decode_review(encoded_reviiews):\n",
    "    return ' '.join([reverse_word_index.get(i - 3, '?') for i in sample_review])\n",
    "\n",
    "def preprocess_text(text):\n",
    "    words = text.lower().split()\n",
    "    encoded_review = [word_index.get(word,2)+3 for word in words]\n",
    "    print(encoded_review)\n",
    "    padded_review = sequence.pad_sequences([encoded_review])\n",
    "    return padded_review"
   ]
  },
  {
   "cell_type": "code",
   "execution_count": 16,
   "metadata": {},
   "outputs": [],
   "source": [
    "def predict_sentiment(review):\n",
    "    preprocessed_input = preprocess_text(review)\n",
    "    prediction = model.predict(preprocessed_input)\n",
    "    sentiment = \"Positive\" if prediction[0][0] > 0.5 else \"Negative\"\n",
    "    return sentiment, prediction[0][0]"
   ]
  },
  {
   "cell_type": "code",
   "execution_count": 18,
   "metadata": {},
   "outputs": [
    {
     "name": "stdout",
     "output_type": "stream",
     "text": [
      "\u001b[1m1/1\u001b[0m \u001b[32m━━━━━━━━━━━━━━━━━━━━\u001b[0m\u001b[37m\u001b[0m \u001b[1m0s\u001b[0m 118ms/step\n",
      "Review: This movie was fantastic! The acting was great and the plot was thrilling.\n",
      "Sentiment: Positive\n",
      "Prediction Score: 0.8175284266471863\n"
     ]
    }
   ],
   "source": [
    "# Step 4: User Input and Prediction\n",
    "# Example review for prediction\n",
    "example_review = \"This movie was fantastic! The acting was great and the plot was thrilling.\"\n",
    "\n",
    "sentiment,score=predict_sentiment(example_review)\n",
    "\n",
    "print(f'Review: {example_review}')\n",
    "print(f'Sentiment: {sentiment}')\n",
    "print(f'Prediction Score: {score}')"
   ]
  },
  {
   "cell_type": "code",
   "execution_count": null,
   "metadata": {},
   "outputs": [],
   "source": []
  }
 ],
 "metadata": {
  "kernelspec": {
   "display_name": "Python 3",
   "language": "python",
   "name": "python3"
  },
  "language_info": {
   "codemirror_mode": {
    "name": "ipython",
    "version": 3
   },
   "file_extension": ".py",
   "mimetype": "text/x-python",
   "name": "python",
   "nbconvert_exporter": "python",
   "pygments_lexer": "ipython3",
   "version": "3.11.0"
  }
 },
 "nbformat": 4,
 "nbformat_minor": 2
}
